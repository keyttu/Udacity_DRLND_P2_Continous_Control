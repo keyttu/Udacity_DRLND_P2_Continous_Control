{
 "cells": [
  {
   "cell_type": "markdown",
   "metadata": {},
   "source": [
    "# DDPG Continuous Control\n",
    "\n",
    "---\n",
    "\n",
    "In this notebook, you will learn how to use the Unity ML-Agents environment for the second project of the [Deep Reinforcement Learning Nanodegree](https://www.udacity.com/course/deep-reinforcement-learning-nanodegree--nd893) program.\n",
    "\n",
    "### 1. Start the Environment\n",
    "\n",
    "We begin by importing the necessary packages.  If the code cell below returns an error, please revisit the project instructions to double-check that you have installed [Unity ML-Agents](https://github.com/Unity-Technologies/ml-agents/blob/master/docs/Installation.md) and [NumPy](http://www.numpy.org/)."
   ]
  },
  {
   "cell_type": "code",
   "execution_count": 1,
   "metadata": {},
   "outputs": [],
   "source": [
    "from unityagents import UnityEnvironment\n",
    "import numpy as np"
   ]
  },
  {
   "cell_type": "markdown",
   "metadata": {},
   "source": [
    "Next, we will start the environment!  **_Before running the code cell below_**, change the `file_name` parameter to match the location of the Unity environment that you downloaded.\n",
    "\n",
    "- **Mac**: `\"path/to/Reacher.app\"`\n",
    "- **Windows** (x86): `\"path/to/Reacher_Windows_x86/Reacher.exe\"`\n",
    "- **Windows** (x86_64): `\"path/to/Reacher_Windows_x86_64/Reacher.exe\"`\n",
    "- **Linux** (x86): `\"path/to/Reacher_Linux/Reacher.x86\"`\n",
    "- **Linux** (x86_64): `\"path/to/Reacher_Linux/Reacher.x86_64\"`\n",
    "- **Linux** (x86, headless): `\"path/to/Reacher_Linux_NoVis/Reacher.x86\"`\n",
    "- **Linux** (x86_64, headless): `\"path/to/Reacher_Linux_NoVis/Reacher.x86_64\"`\n",
    "\n",
    "For instance, if you are using a Mac, then you downloaded `Reacher.app`.  If this file is in the same folder as the notebook, then the line below should appear as follows:\n",
    "```\n",
    "env = UnityEnvironment(file_name=\"Reacher.app\")\n",
    "```"
   ]
  },
  {
   "cell_type": "code",
   "execution_count": 2,
   "metadata": {},
   "outputs": [
    {
     "name": "stderr",
     "output_type": "stream",
     "text": [
      "INFO:unityagents:\n",
      "'Academy' started successfully!\n",
      "Unity Academy name: Academy\n",
      "        Number of Brains: 1\n",
      "        Number of External Brains : 1\n",
      "        Lesson number : 0\n",
      "        Reset Parameters :\n",
      "\t\tgoal_speed -> 1.0\n",
      "\t\tgoal_size -> 5.0\n",
      "Unity brain name: ReacherBrain\n",
      "        Number of Visual Observations (per agent): 0\n",
      "        Vector Observation space type: continuous\n",
      "        Vector Observation space size (per agent): 33\n",
      "        Number of stacked Vector Observation: 1\n",
      "        Vector Action space type: continuous\n",
      "        Vector Action space size (per agent): 4\n",
      "        Vector Action descriptions: , , , \n"
     ]
    }
   ],
   "source": [
    "env = UnityEnvironment(file_name='C:/Users/HP/Desktop/Reacher_Windows_x86_64/Reacher.exe')\n",
    "# env = UnityEnvironment(file_name='../../Reacher_Linux/Reacher.x86_64')"
   ]
  },
  {
   "cell_type": "markdown",
   "metadata": {},
   "source": [
    "Environments contain **_brains_** which are responsible for deciding the actions of their associated agents. Here we check for the first brain available, and set it as the default brain we will be controlling from Python."
   ]
  },
  {
   "cell_type": "code",
   "execution_count": 3,
   "metadata": {},
   "outputs": [],
   "source": [
    "# get the default brain\n",
    "brain_name = env.brain_names[0]\n",
    "brain = env.brains[brain_name]"
   ]
  },
  {
   "cell_type": "markdown",
   "metadata": {},
   "source": [
    "### 2. Examine the State and Action Spaces\n",
    "\n",
    "In this environment, a double-jointed arm can move to target locations. A reward of `+0.1` is provided for each step that the agent's hand is in the goal location. Thus, the goal of your agent is to maintain its position at the target location for as many time steps as possible.\n",
    "\n",
    "The observation space consists of `33` variables corresponding to position, rotation, velocity, and angular velocities of the arm.  Each action is a vector with four numbers, corresponding to torque applicable to two joints.  Every entry in the action vector must be a number between `-1` and `1`.\n",
    "\n",
    "Run the code cell below to print some information about the environment."
   ]
  },
  {
   "cell_type": "code",
   "execution_count": 4,
   "metadata": {},
   "outputs": [
    {
     "name": "stdout",
     "output_type": "stream",
     "text": [
      "Number of agents: 20\n",
      "Size of each action: 4\n",
      "There are 20 agents. Each observes a state with length: 33\n",
      "The state for the first agent looks like: [ 0.00000000e+00 -4.00000000e+00  0.00000000e+00  1.00000000e+00\n",
      " -0.00000000e+00 -0.00000000e+00 -4.37113883e-08  0.00000000e+00\n",
      "  0.00000000e+00  0.00000000e+00  0.00000000e+00  0.00000000e+00\n",
      "  0.00000000e+00  0.00000000e+00 -1.00000000e+01  0.00000000e+00\n",
      "  1.00000000e+00 -0.00000000e+00 -0.00000000e+00 -4.37113883e-08\n",
      "  0.00000000e+00  0.00000000e+00  0.00000000e+00  0.00000000e+00\n",
      "  0.00000000e+00  0.00000000e+00  5.75471878e+00 -1.00000000e+00\n",
      "  5.55726624e+00  0.00000000e+00  1.00000000e+00  0.00000000e+00\n",
      " -1.68164849e-01]\n"
     ]
    }
   ],
   "source": [
    "# reset the environment\n",
    "env_info = env.reset(train_mode=False)[brain_name]\n",
    "\n",
    "# number of agents\n",
    "num_agents = len(env_info.agents)\n",
    "print('Number of agents:', num_agents)\n",
    "\n",
    "# size of each action\n",
    "action_size = brain.vector_action_space_size\n",
    "print('Size of each action:', action_size)\n",
    "\n",
    "# examine the state space \n",
    "states = env_info.vector_observations\n",
    "state_size = states.shape[1]\n",
    "print('There are {} agents. Each observes a state with length: {}'.format(states.shape[0], state_size))\n",
    "print('The state for the first agent looks like:', states[0])"
   ]
  },
  {
   "cell_type": "markdown",
   "metadata": {},
   "source": [
    "### 3. Train the agent with ddpg"
   ]
  },
  {
   "cell_type": "code",
   "execution_count": 5,
   "metadata": {},
   "outputs": [],
   "source": [
    "from collections import deque\n",
    "import matplotlib.pyplot as plt\n",
    "from ddpg_agent import Agent\n",
    "import torch\n",
    "\n",
    "%matplotlib inline"
   ]
  },
  {
   "cell_type": "code",
   "execution_count": 6,
   "metadata": {},
   "outputs": [
    {
     "name": "stdout",
     "output_type": "stream",
     "text": [
      "Initializing ReplayBuffer\n",
      "Episode 50\tScore: 19.51\tAverage Score: 15.3744\n",
      "Episode 100\tScore: 23.75\tAverage Score: 17.9824\n",
      "Episode 150\tScore: 30.94\tAverage Score: 23.4548\n",
      "Episode 200\tScore: 31.11\tAverage Score: 28.7679\n",
      "Episode 216\tScore: 31.65\tAverage Score: 30.0758\n",
      "\n",
      "Environment solved in 216 episodes!\tAverage Score: 30.07\n"
     ]
    }
   ],
   "source": [
    "GOAL = 30.0 # Average Score for all the Agents\n",
    "average = 0 # Average\n",
    "maxTimeSteps = 1000 # Max time steps\n",
    "episode = 0\n",
    "# List of Size 100\n",
    "scores_window = deque(maxlen=100)\n",
    "# Scores of all agents in an episode\n",
    "scores = np.zeros(num_agents)\n",
    "# List to store Average score over all the agents in an episode\n",
    "scores_episodes = []\n",
    "# List to create 20 Agents\n",
    "agents =[] \n",
    "\n",
    "# Define the Agents\n",
    "for i in range(num_agents):\n",
    "    agents.append(Agent(state_size, action_size, random_seed=0))\n",
    "       \n",
    "while average < GOAL:\n",
    "    \n",
    "    episode+=1\n",
    "    # Reset the environment when episode is completed\n",
    "    env_info = env.reset(train_mode=True)[brain_name]\n",
    "    # Find the Initial State of the Environment\n",
    "    states = env_info.vector_observations\n",
    "\n",
    "    # Reset all the agents\n",
    "    for agent in agents:\n",
    "        agent.reset()\n",
    "\n",
    "    # Make the Score board to zero\n",
    "    scores = np.zeros(num_agents)\n",
    "    \n",
    "    t = 0\n",
    "    while t < maxTimeSteps:\n",
    "        \n",
    "        t+=1\n",
    "        # Get actions from all the agents and append them into 1\n",
    "        actions = np.array([agents[i].act(states[i]) for i in range(num_agents)])\n",
    "\n",
    "        env_info = env.step(actions)[brain_name]        # send the action to the environment\n",
    "        next_states = env_info.vector_observations     # get the next state\n",
    "        rewards = env_info.rewards                     # get the reward\n",
    "        dones = env_info.local_done        # Get the Result\n",
    "\n",
    "        for i in range(num_agents):\n",
    "            agents[i].step(t,states[i], actions[i], rewards[i], next_states[i], dones[i]) \n",
    "\n",
    "        states = next_states\n",
    "        scores += rewards\n",
    "        \n",
    "        # Break if any agent reached the terminal state\n",
    "        if np.any(dones):\n",
    "            break \n",
    "            \n",
    "    score = np.mean(scores) \n",
    "    scores_window.append(score)       # save most recent score\n",
    "    scores_episodes.append(score) \n",
    "    average = np.mean(scores_window)\n",
    "    \n",
    "    if(episode % 50 == 0)\n",
    "        print('\\rEpisode {}\\tScore: {:.2f}\\tAverage Score: {:.2f}'.format(episode, score, average), end=\"\\n\")\n",
    "\n",
    "    if average >=30.0:\n",
    "        print('\\rEpisode {}\\tScore: {:.2f}\\tAverage Score: {:.2f}'.format(episode, score, average), end=\"\\n\")\n",
    "        print('\\nEnvironment solved in {:d} episodes!\\tAverage Score: {:.2f}'.format(episode, average))\n",
    "        # Save the Agents\n",
    "        torch.save(Agent.actor_local.state_dict(), 'checkpoint_actor.pth')\n",
    "        torch.save(Agent.critic_local.state_dict(), 'checkpoint_critic.pth')\n",
    "        break\n"
   ]
  },
  {
   "cell_type": "markdown",
   "metadata": {},
   "source": [
    "### 4. Plotting the Rewards"
   ]
  },
  {
   "cell_type": "code",
   "execution_count": 7,
   "metadata": {},
   "outputs": [
    {
     "data": {
      "image/png": "[encoded data removed]",
      "text/plain": [
       "<Figure size 432x288 with 1 Axes>"
      ]
     },
     "metadata": {
      "needs_background": "light"
     },
     "output_type": "display_data"
    }
   ],
   "source": [
    "plt.plot(np.arange(len(scores_episodes)), scores_episodes)\n",
    "plt.ylabel('Score')\n",
    "plt.xlabel('Episode #')\n",
    "plt.show()"
   ]
  },
  {
   "cell_type": "markdown",
   "metadata": {},
   "source": [
    "### 5. Testing the Agent"
   ]
  },
  {
   "cell_type": "code",
   "execution_count": 8,
   "metadata": {},
   "outputs": [
    {
     "name": "stdout",
     "output_type": "stream",
     "text": [
      "Score: 32.87\tmin: 26.51\tmax: 37.87\n",
      "Scores: [36.56999918 26.50999941 32.46999927 29.75999933 33.97999924 37.86999915\n",
      " 29.77999933 30.41999932 33.57999925 35.47999921 34.02999924 36.46999918\n",
      " 32.01999928 31.73999929 33.16999926 31.94999929 34.35999923 32.84999927\n",
      " 31.78999929 32.55999927]\n"
     ]
    }
   ],
   "source": [
    "from ddpg_model import Actor\n",
    "\n",
    "scores = np.zeros(num_agents)\n",
    "device = torch.device(\"cuda:0\" if torch.cuda.is_available() else \"cpu\")\n",
    "random_seed=0\n",
    "Agent.actor_local = Actor(state_size, action_size, random_seed).to(device)\n",
    "Agent.actor_local.load_state_dict(torch.load('checkpoint_actor.pth'))\n",
    "\n",
    "agents =[] \n",
    "\n",
    "for i in range(num_agents):\n",
    "    agents.append(Agent(state_size, action_size, random_seed=0))\n",
    "\n",
    "# Reset the Environment\n",
    "env_info = env.reset(train_mode=False)[brain_name]\n",
    "# Initial State\n",
    "states = env_info.vector_observations \n",
    "\n",
    "while True:\n",
    "    actions = np.array([agents[i].act(states[i]) for i in range(num_agents)])\n",
    "\n",
    "    env_info = env.step(actions)[brain_name]        # send the action to the environment\n",
    "    next_states = env_info.vector_observations     # get the next state\n",
    "    rewards = env_info.rewards\n",
    "    dones = env_info.local_done        \n",
    "    states = next_states\n",
    "    scores += rewards\n",
    "    print('\\rScore: {:.2f}\\tmin: {:.2f}\\tmax: {:.2f}'\n",
    "              .format(np.mean(scores), np.min(scores), np.max(scores)), end=\"\") \n",
    "    if np.any(dones):\n",
    "        break\n",
    "        \n",
    "print(\"\\nScores: {}\".format(scores))"
   ]
  }
 ],
 "metadata": {
  "kernelspec": {
   "display_name": "Python 3",
   "language": "python",
   "name": "python3"
  },
  "language_info": {
   "codemirror_mode": {
    "name": "ipython",
    "version": 3
   },
   "file_extension": ".py",
   "mimetype": "text/x-python",
   "name": "python",
   "nbconvert_exporter": "python",
   "pygments_lexer": "ipython3",
   "version": "3.6.10"
  }
 },
 "nbformat": 4,
 "nbformat_minor": 2
}
